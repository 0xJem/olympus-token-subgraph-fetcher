{
 "cells": [
  {
   "cell_type": "code",
   "execution_count": null,
   "metadata": {},
   "outputs": [],
   "source": [
    "from datetime import datetime, timedelta, date\n",
    "from subgrounds.subgrounds import Subgrounds\n",
    "import pandas as pd"
   ]
  },
  {
   "cell_type": "code",
   "execution_count": null,
   "metadata": {},
   "outputs": [],
   "source": [
    "sg = Subgrounds()\n",
    "holders = sg.load_api('https://api.studio.thegraph.com/query/28103/token-holders/0.0.23')"
   ]
  },
  {
   "cell_type": "code",
   "execution_count": 12,
   "metadata": {},
   "outputs": [],
   "source": [
    "import os\n",
    "\n",
    "\n",
    "def do_query(holders, page, start_date: datetime, finish_date: datetime, df):\n",
    "    # Fetch the next page and concatenate\n",
    "    events_query = holders.Query.tokenHolderTransactions(\n",
    "        orderBy=\"timestamp\",\n",
    "        orderDirection=\"asc\",\n",
    "        first=1000,\n",
    "        skip=1000*page,\n",
    "        where=[\n",
    "            holders.TokenHolderTransaction.date >= start_date.strftime(\"%Y-%m-%dT%H:%M:%S.000Z\"),\n",
    "            holders.TokenHolderTransaction.date < finish_date.strftime(\"%Y-%m-%dT%H:%M:%S.000Z\"),\n",
    "        ]\n",
    "    )\n",
    "    print(\"Fetching records for date: \", start_date)\n",
    "    print(\"page: \", page)\n",
    "    events = sg.query_df([events_query.date, events_query.value, events_query.holder.holder, events_query.holder.token.name])\n",
    "    print(\"records: \", len(events))\n",
    "    updated_df = pd.concat([df, events])\n",
    "\n",
    "    if len(events) < 1000:\n",
    "        return updated_df\n",
    "\n",
    "    return do_query(holders, page+1, start_date, finish_date, updated_df)\n",
    "\n",
    "df = pd.DataFrame()\n",
    "\n",
    "if os.path.exists(\"results.csv\"):\n",
    "    print(\"Reading cached results\")\n",
    "    df = pd.read_csv(\"results.csv\")\n",
    "else:\n",
    "    # For each day, fetch the day's events\n",
    "    start_date = datetime(2021,11,24)\n",
    "    today = datetime.today()\n",
    "    delta = timedelta(hours=6)\n",
    "\n",
    "    while start_date <= today:\n",
    "        next_date = start_date + delta\n",
    "\n",
    "        # Fetch recursively\n",
    "        df = do_query(holders, 0, start_date, next_date, df)\n",
    "\n",
    "        # Increment start date for the next loop\n",
    "        start_date += delta\n",
    "\n",
    "    # Cache the results\n",
    "    df.to_csv(\"results.csv\", float_format=\"%.18f\")\n",
    "    print(\"Wrote cached results\")\n",
    "\n",
    "# Parse the datetime string and convert to date\n",
    "print(\"Parsing date\")\n",
    "new_df = df.assign(tokenHolderTransactions_date=pd.to_datetime(df[\"tokenHolderTransactions_date\"], format=\"%Y-%m-%dT%H:%M:%S.000Z\").dt.date)\n",
    "\n",
    "# Calculate daily balance\n",
    "print(\"Calculating daily sum\")\n",
    "grouped = new_df.groupby([\"tokenHolderTransactions_holder_holder\", \"tokenHolderTransactions_holder_token_name\", \"tokenHolderTransactions_date\"]).sum()\n",
    "\n",
    "# Generate rows for each date/token/holder permutation\n",
    "print(\"Generating permutations\")\n",
    "dt = grouped.index.get_level_values(\"tokenHolderTransactions_date\").unique()\n",
    "idx = pd.MultiIndex.from_product([grouped.index.get_level_values(\"tokenHolderTransactions_holder_holder\").unique(), grouped.index.get_level_values(\"tokenHolderTransactions_holder_token_name\").unique(), pd.date_range(dt.min(), dt.max(), freq=\"D\")], names=[\"Holder\", \"Token\", \"Date\"])\n",
    "reindexed = grouped.reindex(idx).groupby([\"Holder\", \"Token\", \"Date\"], sort=False).fillna(0).reset_index()\n",
    "\n",
    "# Calculate the cumulative balance\n",
    "print(\"Calculating daily cumulative balance\")\n",
    "reindexed[\"balance\"] = reindexed.groupby([\"Holder\", \"Token\"]).tokenHolderTransactions_value.cumsum()\n",
    "\n",
    "# Write to file\n",
    "print(\"Writing to records.csv\")\n",
    "reindexed.to_csv(\"records.csv\", index=False, float_format=\"%.18f\")\n",
    "\n",
    "# Cache balances by day\n",
    "# Don't calculate zero balances\n",
    "# Use previous day balances as starting point"
   ]
  }
 ],
 "metadata": {
  "kernelspec": {
   "display_name": "Python 3.10.6 ('token-subgraph-fetcher-CRgsdJmy-py3.10')",
   "language": "python",
   "name": "python3"
  },
  "language_info": {
   "codemirror_mode": {
    "name": "ipython",
    "version": 3
   },
   "file_extension": ".py",
   "mimetype": "text/x-python",
   "name": "python",
   "nbconvert_exporter": "python",
   "pygments_lexer": "ipython3",
   "version": "3.10.6"
  },
  "orig_nbformat": 4,
  "vscode": {
   "interpreter": {
    "hash": "81dfe72e2f90d4dcd2c9ab24c1697840cabe05ea7921080ffe1dc5e725e6a033"
   }
  }
 },
 "nbformat": 4,
 "nbformat_minor": 2
}
